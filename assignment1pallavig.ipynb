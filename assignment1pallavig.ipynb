{
 "cells": [
  {
   "cell_type": "code",
   "execution_count": 1,
   "metadata": {},
   "outputs": [
    {
     "name": "stdout",
     "output_type": "stream",
     "text": [
      "AI BOOTCAMP\n",
      "PMACTOOB IA\n"
     ]
    }
   ],
   "source": [
    "input_string = \"AI BOOTCAMP\"\n",
    "print( input_string)\n",
    "reversed_string = input_string[::-1]\n",
    "print( reversed_string)"
   ]
  },
  {
   "cell_type": "code",
   "execution_count": 2,
   "metadata": {},
   "outputs": [
    {
     "name": "stdout",
     "output_type": "stream",
     "text": [
      "Reversed words: IA PMACTOOB\n"
     ]
    }
   ],
   "source": [
    "def reverse_words(s):\n",
    "    words = s.split()  # Split the string into words\n",
    "    reversed_words = [word[::-1] for word in words] \n",
    "    return ' '.join(reversed_words)  \n",
    "\n",
    "input_string = \"AI BOOTCAMP\"\n",
    "reversed_words_string = reverse_words(input_string)\n",
    "print(\"Reversed words:\", reversed_words_string)"
   ]
  },
  {
   "cell_type": "code",
   "execution_count": 3,
   "metadata": {},
   "outputs": [
    {
     "name": "stdout",
     "output_type": "stream",
     "text": [
      "Random List: [39, 40, 9, 38, 24, 64, 3, 3, 84, 71]\n",
      "Even Numbers: [40, 38, 24, 64, 84]\n"
     ]
    }
   ],
   "source": [
    "import random\n",
    "\n",
    "# Generate a random list of 10 numbers between 1 and 100\n",
    "random_list = [random.randint(1, 100) for _ in range(10)]\n",
    "\n",
    "# Print the random list\n",
    "print(\"Random List:\", random_list)\n",
    "\n",
    "# Filter and print the even numbers from the list\n",
    "even_numbers = [num for num in random_list if num % 2 == 0]\n",
    "print(\"Even Numbers:\",even_numbers)"
   ]
  },
  {
   "cell_type": "code",
   "execution_count": null,
   "metadata": {},
   "outputs": [],
   "source": []
  }
 ],
 "metadata": {
  "kernelspec": {
   "display_name": "base",
   "language": "python",
   "name": "python3"
  },
  "language_info": {
   "codemirror_mode": {
    "name": "ipython",
    "version": 3
   },
   "file_extension": ".py",
   "mimetype": "text/x-python",
   "name": "python",
   "nbconvert_exporter": "python",
   "pygments_lexer": "ipython3",
   "version": "3.12.7"
  }
 },
 "nbformat": 4,
 "nbformat_minor": 2
}
